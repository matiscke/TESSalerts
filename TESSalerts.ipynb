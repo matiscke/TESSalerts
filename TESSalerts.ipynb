{
 "cells": [
  {
   "cell_type": "markdown",
   "metadata": {},
   "source": [
    "# Which TESS candidates should I target?\n",
    "Use this notebook to filter a list of TESS Objects of Interst (TOI) for visibility at a specific site and time and for effective temperature. This template checks for visibility from the Calar Alto Observatory (CAHA) in Spain, but it is easy to adapt to a different use case.\n",
    "\n",
    "#### Minimum Working Instructions:\n",
    "- download a CSV file containing TESS alerts (from tev.mit.edu) and save it in `data/`\n",
    "- Adjust the parameters (see below) to your needs\n",
    "- execute the cells in this notebook "
   ]
  },
  {
   "cell_type": "code",
   "execution_count": null,
   "metadata": {},
   "outputs": [],
   "source": [
    "import astroplan\n",
    "import numpy as np\n",
    "import datetime as dt\n",
    "from astroquery.mast import Catalogs\n",
    "from astroplan.plots import plot_airmass\n",
    "from observability import *\n",
    "from IPython.core.display import display, HTML"
   ]
  },
  {
   "cell_type": "markdown",
   "metadata": {},
   "source": [
    "apply some convenient ipython magic"
   ]
  },
  {
   "cell_type": "code",
   "execution_count": null,
   "metadata": {},
   "outputs": [],
   "source": [
    "%load_ext autoreload\n",
    "%autoreload 2\n",
    "\n",
    "display(HTML(\"<style>.container { width:90% !important; }</style>\"))\n",
    "pd.set_option('display.max_columns', 500)\n",
    "pd.set_option('precision',2)"
   ]
  },
  {
   "cell_type": "markdown",
   "metadata": {},
   "source": [
    "## Specify Parameters\n",
    "Define observational constraints, the Calar Alto Observatory, a maximum effective temperature."
   ]
  },
  {
   "cell_type": "code",
   "execution_count": null,
   "metadata": {},
   "outputs": [],
   "source": [
    "alertsFile = 'data/csv-file-toi-catalog.csv' # path to the alerts file\n",
    "lastUpdate = '2021-01-25'                 # include only alerts added after this date\n",
    "earliestObs = str(np.datetime64('today')) # earliest time we are interested in for observations\n",
    "latestObs = '2021-12-31 12:00'            # latest time we are interested in for observations\n",
    "minAltitude = 30                          # minimum elevation for visibility [deg]\n",
    "Teff_max = 4000                           # maximum temperature for the M-dwarf-filter [K]\n",
    "CAHA = defineCAHA()                       # define observing location, in this case Calar Alto observatory\n",
    "Jmax = 12.                                # maximum J magnitude"
   ]
  },
  {
   "cell_type": "markdown",
   "metadata": {},
   "source": [
    "## Read alerts\n",
    "Specify minimum time in column \"Updated\" (=last time we checked)"
   ]
  },
  {
   "cell_type": "code",
   "execution_count": null,
   "metadata": {},
   "outputs": [],
   "source": [
    "# alerts, targets = targetsFromCSV(alertsFile, minUpdated=lastUpdate)\n",
    "alerts, targets = targetsFromCSV(alertsFile, minUpdated=lastUpdate, header=4)\n",
    "alerts.head()\n",
    "print(len(alerts))"
   ]
  },
  {
   "cell_type": "markdown",
   "metadata": {},
   "source": [
    "## Define Observing Constraints"
   ]
  },
  {
   "cell_type": "code",
   "execution_count": null,
   "metadata": {},
   "outputs": [],
   "source": [
    "constraints, start_time, end_time = define_constraints(minAltitude, earliestObs, latestObs)"
   ]
  },
  {
   "cell_type": "markdown",
   "metadata": {},
   "source": [
    "## Check Observability from CAHA Given the Constraints"
   ]
  },
  {
   "cell_type": "code",
   "execution_count": null,
   "metadata": {},
   "outputs": [],
   "source": [
    "# The IERS server was down. Increase auto-download max age parameter\n",
    "from astropy.utils import iers\n",
    "iers.conf.auto_max_age = 60."
   ]
  },
  {
   "cell_type": "code",
   "execution_count": null,
   "metadata": {
    "scrolled": true
   },
   "outputs": [],
   "source": [
    "%%time\n",
    "observables = check_observability(alerts, constraints, CAHA, targets, Time(earliestObs),\n",
    "                                 Time(latestObs))\n",
    "print(len(observables))"
   ]
  },
  {
   "cell_type": "markdown",
   "metadata": {},
   "source": [
    "## Filter for M dwarf Spectral Type"
   ]
  },
  {
   "cell_type": "markdown",
   "metadata": {},
   "source": [
    "Query TIC on MAST with observable objects, simultaneously filtering by effective temperature and J magnitude"
   ]
  },
  {
   "cell_type": "code",
   "execution_count": null,
   "metadata": {
    "scrolled": true
   },
   "outputs": [],
   "source": [
    "%%time\n",
    "observableMdwarfs = Catalogs.query_criteria(catalog=\"Tic\",Teff=[0,Teff_max], Jmag=[-np.inf, Jmax], \n",
    "                                            ID=observables.TIC).to_pandas()\n",
    "print(len(observableMdwarfs))"
   ]
  },
  {
   "cell_type": "markdown",
   "metadata": {},
   "source": [
    "## Output\n",
    "Display the information we need in a convenient way and produce plots that facilitate target selection."
   ]
  },
  {
   "cell_type": "markdown",
   "metadata": {},
   "source": [
    "Merge the two tables"
   ]
  },
  {
   "cell_type": "code",
   "execution_count": null,
   "metadata": {},
   "outputs": [],
   "source": [
    "observableMdwarfs.rename(columns={'ID' : 'TIC'}, inplace=True)\n",
    "observableMdwarfs.TIC = observableMdwarfs.TIC.astype('int64')\n",
    "observableMdwarfs = pd.merge(observables, observableMdwarfs, on='TIC', how='inner')\n",
    "candidateTargets = [t for t in targets if float(t.name) in observableMdwarfs['TOI'].unique()]\n",
    "len(observableMdwarfs)"
   ]
  },
  {
   "cell_type": "markdown",
   "metadata": {},
   "source": [
    "Display columns relevant for candidates spreadsheet, and write them to an xlsx file in `output/`."
   ]
  },
  {
   "cell_type": "code",
   "execution_count": null,
   "metadata": {},
   "outputs": [],
   "source": [
    "to_spreadsheet = observableMdwarfs[['TIC', 'TOI', 'GAIA', 'Transit Depth Value', 'TIC Right Ascension', 'TIC Declination', 'rad', 'mass','Teff', 'logg', 'Orbital Period Value', 'Transit Duration Value','gmag', 'Jmag', 'Hmag', 'Kmag']]\n",
    "\n",
    "with pd.ExcelWriter('output/newCandidates.xlsx', engine='openpyxl', float_format=\"%.20f\") as writer:\n",
    "    to_spreadsheet.to_excel(writer)\n",
    "to_spreadsheet"
   ]
  },
  {
   "cell_type": "markdown",
   "metadata": {},
   "source": [
    "# Plots"
   ]
  },
  {
   "cell_type": "markdown",
   "metadata": {},
   "source": [
    "Print StarAlt-suited coordinate output for candidates"
   ]
  },
  {
   "cell_type": "code",
   "execution_count": null,
   "metadata": {
    "scrolled": true
   },
   "outputs": [],
   "source": [
    "coordList = [print('{} {:.4f} {:.4f}'.format(o.TIC, o['TIC Right Ascension'], o['TIC Declination'])) for i, o in observableMdwarfs.iterrows()]"
   ]
  },
  {
   "cell_type": "markdown",
   "metadata": {},
   "source": [
    "check elevation at CAHA of the targets _tonight_"
   ]
  },
  {
   "cell_type": "code",
   "execution_count": null,
   "metadata": {
    "scrolled": true
   },
   "outputs": [],
   "source": [
    "fig, ax = plt.subplots()\n",
    "ax = plot_airmass(candidateTargets[:], CAHA, str(dt.datetime.now().replace(hour=23, minute=59)), brightness_shading=True,\n",
    "             altitude_yaxis=True, max_airmass=2.25)\n",
    "ax.legend(facecolor='lightgray')\n",
    "ax.grid(False, axis='y')\n",
    "ax.axhspan(2, 3, alpha=.4, facecolor='w', edgecolor='maroon', hatch='//', linestyle='--')\n",
    "plt.show()"
   ]
  },
  {
   "cell_type": "code",
   "execution_count": null,
   "metadata": {},
   "outputs": [],
   "source": [
    "fig.savefig('output/airmass.png', dpi=300)"
   ]
  },
  {
   "cell_type": "markdown",
   "metadata": {},
   "source": [
    "visualize long-term (next few months) visibility of candidates"
   ]
  },
  {
   "cell_type": "code",
   "execution_count": null,
   "metadata": {
    "scrolled": true
   },
   "outputs": [],
   "source": [
    "fig, ax = plot_observability(candidateTargets, constraints, CAHA, Time(earliestObs), Time(latestObs))"
   ]
  },
  {
   "cell_type": "code",
   "execution_count": null,
   "metadata": {},
   "outputs": [],
   "source": [
    "fig.savefig('output/observability.png', dpi=300)"
   ]
  },
  {
   "cell_type": "markdown",
   "metadata": {},
   "source": [
    "------------------------------"
   ]
  }
 ],
 "metadata": {
  "kernelspec": {
   "display_name": "Python 3",
   "language": "python",
   "name": "python3"
  },
  "language_info": {
   "codemirror_mode": {
    "name": "ipython",
    "version": 3
   },
   "file_extension": ".py",
   "mimetype": "text/x-python",
   "name": "python",
   "nbconvert_exporter": "python",
   "pygments_lexer": "ipython3",
   "version": "3.8.6"
  },
  "toc": {
   "base_numbering": 1,
   "nav_menu": {},
   "number_sections": true,
   "sideBar": true,
   "skip_h1_title": false,
   "title_cell": "Table of Contents",
   "title_sidebar": "Contents",
   "toc_cell": false,
   "toc_position": {},
   "toc_section_display": true,
   "toc_window_display": false
  }
 },
 "nbformat": 4,
 "nbformat_minor": 4
}
