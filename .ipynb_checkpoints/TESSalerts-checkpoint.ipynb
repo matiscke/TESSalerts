{
 "cells": [
  {
   "cell_type": "markdown",
   "metadata": {},
   "source": [
    "## Which TESS candidates should I target?\n",
    "Use this notebook to filter a list of TESS Objects of Interst (TOI) for visibility at a specific site and time and for effective temperature. This template checks for visibility from the Calar Alto Observatory (CAHA) in Spain, but it is easy to adapt to a different use case.\n",
    "\n",
    "#### Minimum Working Instructions:\n",
    "- download a CSV file containing TESS alerts (from tev.mit.edu) and save it in `data/`\n",
    "- Adjust the parameters (see below) to your needs\n",
    "- execute the cells in this notebook "
   ]
  },
  {
   "cell_type": "code",
   "execution_count": null,
   "metadata": {},
   "outputs": [],
   "source": [
    "import astroplan\n",
    "import numpy as np\n",
    "import datetime as dt\n",
    "from astroquery.mast import Catalogs\n",
    "from astroplan.plots import plot_airmass\n",
    "from observability import *\n",
    "from IPython.core.display import display, HTML"
   ]
  },
  {
   "cell_type": "markdown",
   "metadata": {},
   "source": [
    "apply some convenient ipython magic"
   ]
  },
  {
   "cell_type": "code",
   "execution_count": null,
   "metadata": {},
   "outputs": [],
   "source": [
    "%load_ext autoreload\n",
    "%autoreload 2\n",
    "\n",
    "display(HTML(\"<style>.container { width:90% !important; }</style>\"))\n",
    "pd.set_option('display.max_columns', 500)\n",
    "pd.set_option('precision',2)"
   ]
  },
  {
   "cell_type": "markdown",
   "metadata": {},
   "source": [
    "### Specify Parameters\n",
    "Define observational constraints, the Calar Alto Observatory, a maximum effective temperature."
   ]
  },
  {
   "cell_type": "code",
   "execution_count": null,
   "metadata": {
    "collapsed": true
   },
   "outputs": [],
   "source": [
    "alertsFile = 'data/toi-2019-04-14.csv'    # path to the alerts file\n",
    "lastUpdate = '2019-04-11'                 # include only alerts added after this date\n",
    "earliestObs = str(np.datetime64('today')) # earliest time we are interested in for observations\n",
    "latestObs = '2019-12-30 12:00'            # latest time we are interested in for observations\n",
    "minAltitude = 30                          # minimum elevation for visibility [deg]\n",
    "Teff_max = 4000                           # maximum temperature for the M-dwarf-filter [K]\n",
    "CAHA = defineCAHA()                       # define observing location"
   ]
  },
  {
   "cell_type": "markdown",
   "metadata": {},
   "source": [
    "### Read alerts\n",
    "Specify minimum time in column \"Updated\" (=last time we checked)"
   ]
  },
  {
   "cell_type": "code",
   "execution_count": null,
   "metadata": {},
   "outputs": [],
   "source": [
    "alerts, targets = targetsFromCSV(alertsFile, minUpdated=lastUpdate)\n",
    "alerts"
   ]
  },
  {
   "cell_type": "markdown",
   "metadata": {},
   "source": [
    "### Define Observing Constraints"
   ]
  },
  {
   "cell_type": "code",
   "execution_count": null,
   "metadata": {
    "collapsed": true
   },
   "outputs": [],
   "source": [
    "constraints, start_time, end_time = define_constraints(minAltitude, earliestObs, latestObs)"
   ]
  },
  {
   "cell_type": "markdown",
   "metadata": {},
   "source": [
    "### Check Observability from CAHA Given the Constraints"
   ]
  },
  {
   "cell_type": "code",
   "execution_count": null,
   "metadata": {},
   "outputs": [],
   "source": [
    "observables = check_observability(alerts, constraints, CAHA, targets, Time(earliestObs),\n",
    "                                 Time(latestObs))\n",
    "observables"
   ]
  },
  {
   "cell_type": "markdown",
   "metadata": {},
   "source": [
    "### Filter for M dwarf Spectral Type"
   ]
  },
  {
   "cell_type": "markdown",
   "metadata": {},
   "source": [
    "Query TIC on MAST with observable objects, simultaneously filtering by effective temperature"
   ]
  },
  {
   "cell_type": "code",
   "execution_count": null,
   "metadata": {},
   "outputs": [],
   "source": [
    "observableMdwarfs = Catalogs.query_criteria(catalog=\"Tic\",Teff=[0,Teff_max], ID=observables.tic_id).to_pandas()\n",
    "observableMdwarfs"
   ]
  },
  {
   "cell_type": "markdown",
   "metadata": {},
   "source": [
    "--------------"
   ]
  },
  {
   "cell_type": "markdown",
   "metadata": {},
   "source": [
    "### Output\n",
    "Display the information we need in a convenient way and produce plots that facilitate target selection."
   ]
  },
  {
   "cell_type": "markdown",
   "metadata": {},
   "source": [
    "Merge the two tables"
   ]
  },
  {
   "cell_type": "code",
   "execution_count": null,
   "metadata": {},
   "outputs": [],
   "source": [
    "observableMdwarfs.rename(columns={'ID' : 'tic_id'}, inplace=True)\n",
    "observableMdwarfs.tic_id = observableMdwarfs.tic_id.astype('int64')\n",
    "observableMdwarfs = pd.merge(observables, observableMdwarfs, on='tic_id', how='inner')\n",
    "candidateTargets = [t for t in targets if float(t.name) in observableMdwarfs.toi_id.unique()]\n",
    "observableMdwarfs"
   ]
  },
  {
   "cell_type": "markdown",
   "metadata": {},
   "source": [
    "Display columns relevant for candidates spreadsheet"
   ]
  },
  {
   "cell_type": "code",
   "execution_count": null,
   "metadata": {},
   "outputs": [],
   "source": [
    "to_spreadsheet = observableMdwarfs[['tic_id', 'toi_id', 'RA', 'Dec', 'Teff']]\n",
    "to_spreadsheet"
   ]
  },
  {
   "cell_type": "markdown",
   "metadata": {
    "collapsed": true
   },
   "source": [
    "Print StarAlt-suited coordinate output for candidates"
   ]
  },
  {
   "cell_type": "code",
   "execution_count": null,
   "metadata": {
    "scrolled": true
   },
   "outputs": [],
   "source": [
    "coordList = [print('{} {} {}'.format(o.tic_id, o.ra, o.dec)) for i, o in observableMdwarfs.iterrows()]"
   ]
  },
  {
   "cell_type": "markdown",
   "metadata": {},
   "source": [
    "check elevation at CAHA of the targets _tonight_"
   ]
  },
  {
   "cell_type": "code",
   "execution_count": null,
   "metadata": {},
   "outputs": [],
   "source": [
    "fig, ax = plt.subplots()\n",
    "ax = plot_airmass(candidateTargets, CAHA, str(dt.datetime.now().replace(hour=23, minute=59)), brightness_shading=True,\n",
    "             altitude_yaxis=True, max_airmass=2.25)\n",
    "ax.legend(facecolor='lightgray')\n",
    "ax.grid(False, axis='y')\n",
    "ax.axhspan(2, 3, alpha=.4, facecolor='w', edgecolor='maroon', hatch='//', linestyle='--')\n",
    "plt.show()"
   ]
  },
  {
   "cell_type": "markdown",
   "metadata": {},
   "source": [
    "visualize long-term (next few months) visibility of candidates"
   ]
  },
  {
   "cell_type": "code",
   "execution_count": null,
   "metadata": {},
   "outputs": [],
   "source": [
    "plot_observability(candidateTargets, constraints, CAHA, Time(earliestObs), Time(latestObs))"
   ]
  },
  {
   "cell_type": "markdown",
   "metadata": {},
   "source": [
    "------------------------------"
   ]
  }
 ],
 "metadata": {
  "kernelspec": {
   "display_name": "Python 3",
   "language": "python",
   "name": "python3"
  },
  "language_info": {
   "codemirror_mode": {
    "name": "ipython",
    "version": 3
   },
   "file_extension": ".py",
   "mimetype": "text/x-python",
   "name": "python",
   "nbconvert_exporter": "python",
   "pygments_lexer": "ipython3",
   "version": "3.6.8"
  }
 },
 "nbformat": 4,
 "nbformat_minor": 2
}
