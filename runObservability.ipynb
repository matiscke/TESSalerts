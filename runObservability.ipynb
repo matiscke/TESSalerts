{
 "cells": [
  {
   "cell_type": "code",
   "execution_count": 64,
   "metadata": {
    "collapsed": true
   },
   "outputs": [],
   "source": [
    "import astroplan\n",
    "import numpy as np\n",
    "\n",
    "from observability import *"
   ]
  },
  {
   "cell_type": "code",
   "execution_count": 2,
   "metadata": {
    "collapsed": true
   },
   "outputs": [],
   "source": [
    "%load_ext autoreload\n",
    "%autoreload 2"
   ]
  },
  {
   "cell_type": "code",
   "execution_count": 3,
   "metadata": {
    "collapsed": true
   },
   "outputs": [],
   "source": [
    "CAHA = define_observer()"
   ]
  },
  {
   "cell_type": "markdown",
   "metadata": {},
   "source": [
    "### Read alerts\n",
    "Specify minimum time in column \"Updated\" (=last time we checked)"
   ]
  },
  {
   "cell_type": "code",
   "execution_count": 37,
   "metadata": {},
   "outputs": [],
   "source": [
    "alerts, targets = targetsFromCSV('data/toi-2019-02-28.csv', minUpdated='2019-02-10')"
   ]
  },
  {
   "cell_type": "markdown",
   "metadata": {},
   "source": [
    "### Define Observing Constraints"
   ]
  },
  {
   "cell_type": "code",
   "execution_count": 38,
   "metadata": {
    "collapsed": true
   },
   "outputs": [],
   "source": [
    "constraints, start_time, end_time = define_constraints(30,\n",
    "        '2019-02-28 12:00', '2019-12-31 12:00')"
   ]
  },
  {
   "cell_type": "markdown",
   "metadata": {},
   "source": [
    "### Filter for M dwarf Spectral Type"
   ]
  },
  {
   "cell_type": "markdown",
   "metadata": {},
   "source": [
    "work in progress"
   ]
  },
  {
   "cell_type": "code",
   "execution_count": null,
   "metadata": {
    "collapsed": true
   },
   "outputs": [],
   "source": []
  },
  {
   "cell_type": "code",
   "execution_count": null,
   "metadata": {
    "collapsed": true
   },
   "outputs": [],
   "source": []
  },
  {
   "cell_type": "markdown",
   "metadata": {},
   "source": [
    "### Check Observability from CAHA Given the Constraints"
   ]
  },
  {
   "cell_type": "code",
   "execution_count": 65,
   "metadata": {},
   "outputs": [],
   "source": [
    "observables = check_observability(alerts, constraints, CAHA, targets, start_time,\n",
    "                                 end_time)"
   ]
  },
  {
   "cell_type": "code",
   "execution_count": 109,
   "metadata": {},
   "outputs": [
    {
     "data": {
      "text/html": [
       "<div>\n",
       "<style>\n",
       "    .dataframe thead tr:only-child th {\n",
       "        text-align: right;\n",
       "    }\n",
       "\n",
       "    .dataframe thead th {\n",
       "        text-align: left;\n",
       "    }\n",
       "\n",
       "    .dataframe tbody tr th {\n",
       "        vertical-align: top;\n",
       "    }\n",
       "</style>\n",
       "<table border=\"1\" class=\"dataframe\">\n",
       "  <thead>\n",
       "    <tr style=\"text-align: right;\">\n",
       "      <th></th>\n",
       "      <th>src</th>\n",
       "      <th>tic_id</th>\n",
       "      <th>toi_id</th>\n",
       "      <th>Disposition</th>\n",
       "      <th>RA</th>\n",
       "      <th>Dec</th>\n",
       "      <th>Tmag</th>\n",
       "      <th>Tmag Err</th>\n",
       "      <th>Epoc</th>\n",
       "      <th>Epoc Err</th>\n",
       "      <th>Period</th>\n",
       "      <th>Period Err</th>\n",
       "      <th>Duration</th>\n",
       "      <th>Duration Err</th>\n",
       "      <th>Transit Depth</th>\n",
       "      <th>Transit Depth Err</th>\n",
       "      <th>Sectors</th>\n",
       "      <th>Created</th>\n",
       "      <th>Updated</th>\n",
       "      <th>months</th>\n",
       "    </tr>\n",
       "  </thead>\n",
       "  <tbody>\n",
       "    <tr>\n",
       "      <th>0</th>\n",
       "      <td>spoc</td>\n",
       "      <td>4616072.0</td>\n",
       "      <td>466.01</td>\n",
       "      <td>PC</td>\n",
       "      <td>101.994258</td>\n",
       "      <td>-21.910706</td>\n",
       "      <td>12.829</td>\n",
       "      <td>0.018</td>\n",
       "      <td>1469.061662</td>\n",
       "      <td>0.002086</td>\n",
       "      <td>4.185990</td>\n",
       "      <td>0.000656</td>\n",
       "      <td>2.846073</td>\n",
       "      <td>0.152545</td>\n",
       "      <td>12941.972915</td>\n",
       "      <td>555.396670</td>\n",
       "      <td>6</td>\n",
       "      <td>2019-02-22 14:51:22.054097+00:00</td>\n",
       "      <td>2019-02-26 17:50:02.467216</td>\n",
       "      <td>None</td>\n",
       "    </tr>\n",
       "    <tr>\n",
       "      <th>3</th>\n",
       "      <td>spoc</td>\n",
       "      <td>33521996.0</td>\n",
       "      <td>468.01</td>\n",
       "      <td>PC</td>\n",
       "      <td>88.146797</td>\n",
       "      <td>-19.031654</td>\n",
       "      <td>13.292</td>\n",
       "      <td>0.018</td>\n",
       "      <td>1469.311680</td>\n",
       "      <td>0.000545</td>\n",
       "      <td>3.325285</td>\n",
       "      <td>0.000149</td>\n",
       "      <td>1.998280</td>\n",
       "      <td>0.045672</td>\n",
       "      <td>36142.733892</td>\n",
       "      <td>526.087400</td>\n",
       "      <td>6</td>\n",
       "      <td>2019-02-22 14:51:22.324939+00:00</td>\n",
       "      <td>2019-02-26 17:50:02.440275</td>\n",
       "      <td>None</td>\n",
       "    </tr>\n",
       "    <tr>\n",
       "      <th>4</th>\n",
       "      <td>spoc</td>\n",
       "      <td>33692729.0</td>\n",
       "      <td>469.01</td>\n",
       "      <td>PC</td>\n",
       "      <td>93.058225</td>\n",
       "      <td>-14.650035</td>\n",
       "      <td>8.719</td>\n",
       "      <td>0.019</td>\n",
       "      <td>1474.567411</td>\n",
       "      <td>0.001922</td>\n",
       "      <td>13.632935</td>\n",
       "      <td>0.002640</td>\n",
       "      <td>4.422229</td>\n",
       "      <td>0.176513</td>\n",
       "      <td>1207.715363</td>\n",
       "      <td>56.476704</td>\n",
       "      <td>6</td>\n",
       "      <td>2019-02-22 14:51:22.369411+00:00</td>\n",
       "      <td>2019-02-26 17:50:02.435800</td>\n",
       "      <td>None</td>\n",
       "    </tr>\n",
       "    <tr>\n",
       "      <th>9</th>\n",
       "      <td>spoc</td>\n",
       "      <td>59843967.0</td>\n",
       "      <td>474.01</td>\n",
       "      <td>PC</td>\n",
       "      <td>94.112075</td>\n",
       "      <td>-22.546884</td>\n",
       "      <td>12.696</td>\n",
       "      <td>0.018</td>\n",
       "      <td>1468.520650</td>\n",
       "      <td>0.000797</td>\n",
       "      <td>2.516825</td>\n",
       "      <td>0.000167</td>\n",
       "      <td>2.534952</td>\n",
       "      <td>0.066669</td>\n",
       "      <td>17324.826372</td>\n",
       "      <td>307.008360</td>\n",
       "      <td>6</td>\n",
       "      <td>2019-02-22 14:51:22.815239+00:00</td>\n",
       "      <td>2019-02-26 17:50:02.390787</td>\n",
       "      <td>None</td>\n",
       "    </tr>\n",
       "    <tr>\n",
       "      <th>16</th>\n",
       "      <td>spoc</td>\n",
       "      <td>306362738.0</td>\n",
       "      <td>479.01</td>\n",
       "      <td>PC</td>\n",
       "      <td>91.089454</td>\n",
       "      <td>-16.965303</td>\n",
       "      <td>10.770</td>\n",
       "      <td>0.018</td>\n",
       "      <td>1470.819699</td>\n",
       "      <td>0.000351</td>\n",
       "      <td>2.781764</td>\n",
       "      <td>0.000096</td>\n",
       "      <td>2.140641</td>\n",
       "      <td>0.025330</td>\n",
       "      <td>13196.879958</td>\n",
       "      <td>123.628300</td>\n",
       "      <td>6</td>\n",
       "      <td>2019-02-22 14:51:23.937013+00:00</td>\n",
       "      <td>2019-02-26 17:50:02.274767</td>\n",
       "      <td>None</td>\n",
       "    </tr>\n",
       "    <tr>\n",
       "      <th>17</th>\n",
       "      <td>spoc</td>\n",
       "      <td>317548889.0</td>\n",
       "      <td>480.01</td>\n",
       "      <td>PC</td>\n",
       "      <td>88.378664</td>\n",
       "      <td>-16.264964</td>\n",
       "      <td>6.781</td>\n",
       "      <td>0.020</td>\n",
       "      <td>1469.565838</td>\n",
       "      <td>0.002004</td>\n",
       "      <td>6.866196</td>\n",
       "      <td>0.001569</td>\n",
       "      <td>3.556117</td>\n",
       "      <td>0.461265</td>\n",
       "      <td>345.232052</td>\n",
       "      <td>25.932364</td>\n",
       "      <td>6</td>\n",
       "      <td>2019-02-22 14:51:23.983060+00:00</td>\n",
       "      <td>2019-02-26 17:50:02.270104</td>\n",
       "      <td>None</td>\n",
       "    </tr>\n",
       "    <tr>\n",
       "      <th>19</th>\n",
       "      <td>spoc</td>\n",
       "      <td>365639282.0</td>\n",
       "      <td>482.01</td>\n",
       "      <td>PC</td>\n",
       "      <td>81.398600</td>\n",
       "      <td>8.440900</td>\n",
       "      <td>13.088</td>\n",
       "      <td>0.066</td>\n",
       "      <td>1472.412790</td>\n",
       "      <td>0.004222</td>\n",
       "      <td>10.871700</td>\n",
       "      <td>0.005940</td>\n",
       "      <td>2.943958</td>\n",
       "      <td>0.429073</td>\n",
       "      <td>14603.372380</td>\n",
       "      <td>1752.640600</td>\n",
       "      <td>6</td>\n",
       "      <td>2019-02-22 14:51:24.294809+00:00</td>\n",
       "      <td>2019-02-26 17:50:02.237387</td>\n",
       "      <td>None</td>\n",
       "    </tr>\n",
       "    <tr>\n",
       "      <th>21</th>\n",
       "      <td>spoc</td>\n",
       "      <td>427348923.0</td>\n",
       "      <td>484.01</td>\n",
       "      <td>PC</td>\n",
       "      <td>83.531989</td>\n",
       "      <td>-0.207845</td>\n",
       "      <td>11.617</td>\n",
       "      <td>0.018</td>\n",
       "      <td>1468.427009</td>\n",
       "      <td>0.004125</td>\n",
       "      <td>4.730624</td>\n",
       "      <td>0.001619</td>\n",
       "      <td>4.319769</td>\n",
       "      <td>0.485811</td>\n",
       "      <td>2136.204613</td>\n",
       "      <td>160.966430</td>\n",
       "      <td>6</td>\n",
       "      <td>2019-02-22 14:51:24.657126+00:00</td>\n",
       "      <td>2019-02-26 17:50:02.218802</td>\n",
       "      <td>None</td>\n",
       "    </tr>\n",
       "    <tr>\n",
       "      <th>22</th>\n",
       "      <td>spoc</td>\n",
       "      <td>427352241.0</td>\n",
       "      <td>485.01</td>\n",
       "      <td>PC</td>\n",
       "      <td>83.623049</td>\n",
       "      <td>-4.414893</td>\n",
       "      <td>9.969</td>\n",
       "      <td>0.018</td>\n",
       "      <td>1468.825486</td>\n",
       "      <td>0.002161</td>\n",
       "      <td>1.264563</td>\n",
       "      <td>0.000230</td>\n",
       "      <td>2.263794</td>\n",
       "      <td>0.161450</td>\n",
       "      <td>1627.937740</td>\n",
       "      <td>106.862656</td>\n",
       "      <td>6</td>\n",
       "      <td>2019-02-22 14:51:24.701952+00:00</td>\n",
       "      <td>2019-02-26 17:50:02.214066</td>\n",
       "      <td>None</td>\n",
       "    </tr>\n",
       "    <tr>\n",
       "      <th>months</th>\n",
       "      <td>NaN</td>\n",
       "      <td>NaN</td>\n",
       "      <td>NaN</td>\n",
       "      <td>NaN</td>\n",
       "      <td>NaN</td>\n",
       "      <td>NaN</td>\n",
       "      <td>NaN</td>\n",
       "      <td>NaN</td>\n",
       "      <td>NaN</td>\n",
       "      <td>NaN</td>\n",
       "      <td>NaN</td>\n",
       "      <td>NaN</td>\n",
       "      <td>NaN</td>\n",
       "      <td>NaN</td>\n",
       "      <td>NaN</td>\n",
       "      <td>NaN</td>\n",
       "      <td>NaN</td>\n",
       "      <td>NaN</td>\n",
       "      <td>NaT</td>\n",
       "      <td>None</td>\n",
       "    </tr>\n",
       "  </tbody>\n",
       "</table>\n",
       "</div>"
      ],
      "text/plain": [
       "         src       tic_id  toi_id Disposition          RA        Dec    Tmag  \\\n",
       "0       spoc    4616072.0  466.01          PC  101.994258 -21.910706  12.829   \n",
       "3       spoc   33521996.0  468.01          PC   88.146797 -19.031654  13.292   \n",
       "4       spoc   33692729.0  469.01          PC   93.058225 -14.650035   8.719   \n",
       "9       spoc   59843967.0  474.01          PC   94.112075 -22.546884  12.696   \n",
       "16      spoc  306362738.0  479.01          PC   91.089454 -16.965303  10.770   \n",
       "17      spoc  317548889.0  480.01          PC   88.378664 -16.264964   6.781   \n",
       "19      spoc  365639282.0  482.01          PC   81.398600   8.440900  13.088   \n",
       "21      spoc  427348923.0  484.01          PC   83.531989  -0.207845  11.617   \n",
       "22      spoc  427352241.0  485.01          PC   83.623049  -4.414893   9.969   \n",
       "months   NaN          NaN     NaN         NaN         NaN        NaN     NaN   \n",
       "\n",
       "        Tmag Err         Epoc  Epoc Err     Period  Period Err  Duration  \\\n",
       "0          0.018  1469.061662  0.002086   4.185990    0.000656  2.846073   \n",
       "3          0.018  1469.311680  0.000545   3.325285    0.000149  1.998280   \n",
       "4          0.019  1474.567411  0.001922  13.632935    0.002640  4.422229   \n",
       "9          0.018  1468.520650  0.000797   2.516825    0.000167  2.534952   \n",
       "16         0.018  1470.819699  0.000351   2.781764    0.000096  2.140641   \n",
       "17         0.020  1469.565838  0.002004   6.866196    0.001569  3.556117   \n",
       "19         0.066  1472.412790  0.004222  10.871700    0.005940  2.943958   \n",
       "21         0.018  1468.427009  0.004125   4.730624    0.001619  4.319769   \n",
       "22         0.018  1468.825486  0.002161   1.264563    0.000230  2.263794   \n",
       "months       NaN          NaN       NaN        NaN         NaN       NaN   \n",
       "\n",
       "        Duration Err  Transit Depth  Transit Depth Err Sectors  \\\n",
       "0           0.152545   12941.972915         555.396670       6   \n",
       "3           0.045672   36142.733892         526.087400       6   \n",
       "4           0.176513    1207.715363          56.476704       6   \n",
       "9           0.066669   17324.826372         307.008360       6   \n",
       "16          0.025330   13196.879958         123.628300       6   \n",
       "17          0.461265     345.232052          25.932364       6   \n",
       "19          0.429073   14603.372380        1752.640600       6   \n",
       "21          0.485811    2136.204613         160.966430       6   \n",
       "22          0.161450    1627.937740         106.862656       6   \n",
       "months           NaN            NaN                NaN     NaN   \n",
       "\n",
       "                                 Created                    Updated months  \n",
       "0       2019-02-22 14:51:22.054097+00:00 2019-02-26 17:50:02.467216   None  \n",
       "3       2019-02-22 14:51:22.324939+00:00 2019-02-26 17:50:02.440275   None  \n",
       "4       2019-02-22 14:51:22.369411+00:00 2019-02-26 17:50:02.435800   None  \n",
       "9       2019-02-22 14:51:22.815239+00:00 2019-02-26 17:50:02.390787   None  \n",
       "16      2019-02-22 14:51:23.937013+00:00 2019-02-26 17:50:02.274767   None  \n",
       "17      2019-02-22 14:51:23.983060+00:00 2019-02-26 17:50:02.270104   None  \n",
       "19      2019-02-22 14:51:24.294809+00:00 2019-02-26 17:50:02.237387   None  \n",
       "21      2019-02-22 14:51:24.657126+00:00 2019-02-26 17:50:02.218802   None  \n",
       "22      2019-02-22 14:51:24.701952+00:00 2019-02-26 17:50:02.214066   None  \n",
       "months                               NaN                        NaT   None  "
      ]
     },
     "execution_count": 109,
     "metadata": {},
     "output_type": "execute_result"
    }
   ],
   "source": [
    "observables"
   ]
  },
  {
   "cell_type": "code",
   "execution_count": null,
   "metadata": {
    "collapsed": true
   },
   "outputs": [],
   "source": []
  },
  {
   "cell_type": "code",
   "execution_count": 110,
   "metadata": {},
   "outputs": [
    {
     "data": {
      "text/plain": [
       "[{1, 2, 3, 9, 10, 11, 12}, {1, 2, 3, 4, 8, 9, 10, 11, 12}]"
      ]
     },
     "execution_count": 110,
     "metadata": {},
     "output_type": "execute_result"
    }
   ],
   "source": [
    "astroplan.months_observable(constraints=constraints, observer=CAHA,\n",
    "                            targets=[t for t in targets if t.name in [482.01, 468.01]])"
   ]
  },
  {
   "cell_type": "code",
   "execution_count": null,
   "metadata": {
    "collapsed": true
   },
   "outputs": [],
   "source": []
  },
  {
   "cell_type": "code",
   "execution_count": null,
   "metadata": {
    "collapsed": true
   },
   "outputs": [],
   "source": []
  },
  {
   "cell_type": "code",
   "execution_count": 111,
   "metadata": {},
   "outputs": [
    {
     "name": "stdout",
     "output_type": "stream",
     "text": [
      "466.01 101.994258 -21.910706\n",
      "468.01 88.14679699999999 -19.031654\n",
      "469.01 93.058225 -14.650035\n",
      "474.01 94.112075 -22.546884\n",
      "479.01 91.089454 -16.965303\n",
      "480.01 88.378664 -16.264964000000003\n",
      "482.01 81.3986 8.4409\n",
      "484.01 83.531989 -0.20784499999999997\n",
      "485.01 83.623049 -4.414893\n",
      "NaT NaT NaT\n"
     ]
    },
    {
     "data": {
      "text/plain": [
       "[None, None, None, None, None, None, None, None, None, None]"
      ]
     },
     "execution_count": 111,
     "metadata": {},
     "output_type": "execute_result"
    }
   ],
   "source": [
    "[print('{} {} {}'.format(o.toi_id, o.RA, o.Dec)) for i, o in observables.iterrows()]"
   ]
  },
  {
   "cell_type": "code",
   "execution_count": null,
   "metadata": {
    "collapsed": true
   },
   "outputs": [],
   "source": []
  },
  {
   "cell_type": "markdown",
   "metadata": {},
   "source": [
    "------------------------------"
   ]
  },
  {
   "cell_type": "markdown",
   "metadata": {},
   "source": [
    "------------------------------"
   ]
  },
  {
   "cell_type": "markdown",
   "metadata": {},
   "source": [
    "# TEST Paz' scripts"
   ]
  },
  {
   "cell_type": "code",
   "execution_count": null,
   "metadata": {
    "collapsed": true
   },
   "outputs": [],
   "source": [
    "from astropy.table import Table\n",
    "import numpy as np\n",
    "from astropy.table import Column\n",
    "from astropy import units as u   \n",
    "from astropy.coordinates import SkyCoord\n",
    "from astropy.coordinates import EarthLocation\n",
    "import pandas as pd\n",
    "import astroplan\n",
    "import datetime as dt\n",
    "from astroplan import Observer \n",
    "from astroplan import FixedTarget\n",
    "import requests\n",
    "from lxml import html"
   ]
  },
  {
   "cell_type": "code",
   "execution_count": null,
   "metadata": {
    "collapsed": true
   },
   "outputs": [],
   "source": [
    "print(\"insert username:\")\n",
    "user = input('')\n",
    "print(\"insert password:\")\n",
    "password = input('')\n",
    "\n",
    "def download_tess_alert_table(user,password,table_name = 'alerts_tess_table.dat'):\n",
    "    LOGIN_URL = 'https://tev.mit.edu/user/login/?next=http%3A//127.0.0.1%3A3032/toi/alerts/all/all/csv/'\n",
    "    URL = 'https://tev.mit.edu/toi/alerts/all/all/csv/'\n",
    "    session_requests = requests.session()\n",
    "    result = session_requests.get(LOGIN_URL)\n",
    "    tree = html.fromstring(result.text)\n",
    "    authenticity_token = list(set(tree.xpath(\"//input[@name='csrfmiddlewaretoken']/@value\")))[0]\n",
    "    payload = {\n",
    "        \"username\": user, \n",
    "        \"password\": password, \n",
    "        \"csrfmiddlewaretoken\": authenticity_token\n",
    "              }\n",
    "    result = session_requests.post(LOGIN_URL, data = payload, headers = dict(referer = LOGIN_URL))\n",
    "    \n",
    "    result = session_requests.get(URL, headers = dict(referer = URL))\n",
    "    f = open(table_name,'w')\n",
    "    f.write(str(result.content).replace(',','\\t').replace(' ','_').replace('\\\\r\\\\n','\\n').replace('\\t\\t','\\t-\\t').replace('\\t\\t','\\t-\\t').replace('\\t\\t','\\t-\\t').replace('\\t\\t','\\t-\\t').replace('\\t\\t','\\t-\\t')[2:-1]) \n",
    "    f.close()\n",
    "\n",
    "    \n",
    "download_tess_alert_table(user,password,table_name = 'alerts_tess_table.dat')\n"
   ]
  },
  {
   "cell_type": "code",
   "execution_count": null,
   "metadata": {
    "collapsed": true
   },
   "outputs": [],
   "source": [
    "t_alerts =  Table.read('alerts_tess_table.dat',format = 'ascii')\n",
    "alerts_ticid = t_alerts['tic_id'].data.data\n",
    "alerts_toi_id = t_alerts['toi_id'].data.data\n",
    "ra_alerts = t_alerts['RA']*u.deg\n",
    "dec_alerts = t_alerts['Dec']*u.deg\n",
    "coords_alerts = SkyCoord(ra_alerts,dec_alerts,unit = u.deg)\n",
    "ra_alerts=coords_alerts.ra\n",
    "dec_alerts=coords_alerts.dec\n",
    "T_mag = t_alerts['Tmag'].data.data\n",
    "Terr_mag = t_alerts['Tmag_Err'].data.data\n",
    "\n",
    "lista_candidatas = []\n",
    "indices_candidatas = []\n",
    "for j,element in enumerate(coords_alerts):\n",
    "    dec = element.dec\n",
    "    if dec >-23*u.deg and dec <90*u.deg:\n",
    "        lista_candidatas.append(element)\n",
    "        indices_candidatas.append(j)\n",
    "        \n",
    "#Add visibility\n",
    "months_list = []\n",
    "\n",
    "#only candidates alerts (visible from Calar Alto)\n",
    "T_mag_list=[]\n",
    "Terr_mag_list=[]\n",
    "RA_candidatas=[]\n",
    "DEC_candidatas=[]\n",
    "targets_candidatas=[]\n",
    "toi_candidatas = []\n",
    "p=len(lista_candidatas)"
   ]
  },
  {
   "cell_type": "code",
   "execution_count": null,
   "metadata": {
    "collapsed": true
   },
   "outputs": [],
   "source": [
    "# this is slow.\n",
    "for i in range(10):\n",
    "    print(str(i)+'/'+str(p))\n",
    "    location = EarthLocation.from_geodetic(-2.546111*u.deg, 37.223611*u.deg, 2168*u.m) \n",
    "    obs = Observer(location=location, name=\"calar\", timezone=\"CET\")\n",
    "    c=[astroplan.constraints.LocalTimeConstraint(min=dt.time(19,0), max = dt.time(5,0)),astroplan.constraints.AirmassConstraint(max=2) ] \n",
    "    indices= np.array(indices_candidatas) \n",
    "    targets_candidatas.append(alerts_ticid[indices[i]])\n",
    "    toi_candidatas.append(alerts_toi_id[indices[i]])\n",
    "    T_mag_list.append(T_mag[indices[i]])\n",
    "    Terr_mag_list.append(Terr_mag[indices[i]])\n",
    "    RA_candidatas.append(ra_alerts[indices[i]].value)\n",
    "    DEC_candidatas.append(dec_alerts[indices[i]].value)\n",
    "    coord =lista_candidatas[i]\n",
    "    target = FixedTarget(coord=coord, name=alerts_ticid[indices[i]])\n",
    "    months = astroplan.months_observable(constraints=c,observer=obs,targets=[target]) \n",
    "    months = str(months).replace(' ','').replace('[','').replace(']','') \n",
    "    months_list.append(months)"
   ]
  },
  {
   "cell_type": "code",
   "execution_count": null,
   "metadata": {
    "collapsed": true
   },
   "outputs": [],
   "source": [
    "t_car_tess =  Table.read('Paz/colnames_carmenes_tess.dat',format = 'ascii')\n",
    "name_t = t_car_tess['tess'].data\n",
    "name_c = t_car_tess['Karmn']\n",
    "c=np.array(targets_candidatas)\n",
    "d=c.astype(str)\n",
    "id_carmenes = []\n",
    "for i,tic in enumerate(d):\n",
    "    j = np.where(name_t==tic)[0]\n",
    "    if len(j)>0:\n",
    "        carmen_id = name_c[j[0]]\n",
    "    else:\n",
    "        carmen_id ='...'\n",
    "    id_carmenes.append(carmen_id)"
   ]
  },
  {
   "cell_type": "code",
   "execution_count": null,
   "metadata": {
    "collapsed": true
   },
   "outputs": [],
   "source": []
  }
 ],
 "metadata": {
  "kernelspec": {
   "display_name": "Python 3",
   "language": "python",
   "name": "python3"
  },
  "language_info": {
   "codemirror_mode": {
    "name": "ipython",
    "version": 3
   },
   "file_extension": ".py",
   "mimetype": "text/x-python",
   "name": "python",
   "nbconvert_exporter": "python",
   "pygments_lexer": "ipython3",
   "version": "3.6.3"
  }
 },
 "nbformat": 4,
 "nbformat_minor": 2
}
