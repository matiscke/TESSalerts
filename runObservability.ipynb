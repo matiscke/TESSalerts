{
 "cells": [
  {
   "cell_type": "code",
   "execution_count": null,
   "metadata": {},
   "outputs": [],
   "source": [
    "from observability import *"
   ]
  },
  {
   "cell_type": "code",
   "execution_count": null,
   "metadata": {
    "collapsed": true
   },
   "outputs": [],
   "source": [
    "%load_ext autoreload\n",
    "%autoreload 2"
   ]
  },
  {
   "cell_type": "code",
   "execution_count": null,
   "metadata": {
    "collapsed": true
   },
   "outputs": [],
   "source": [
    "CAHA = define_observer()"
   ]
  },
  {
   "cell_type": "markdown",
   "metadata": {},
   "source": [
    "### Read alerts"
   ]
  },
  {
   "cell_type": "code",
   "execution_count": null,
   "metadata": {
    "collapsed": true
   },
   "outputs": [],
   "source": [
    "alerts, targets = targetsFromCSV('data/toi-2019-01-25.csv')"
   ]
  },
  {
   "cell_type": "markdown",
   "metadata": {},
   "source": [
    "### Define Observing Constraints"
   ]
  },
  {
   "cell_type": "code",
   "execution_count": null,
   "metadata": {
    "collapsed": true
   },
   "outputs": [],
   "source": [
    "constraints, start_time, end_time = define_constraints(30,\n",
    "        '2019-02-08 12:00', '2019-12-31 12:00')"
   ]
  },
  {
   "cell_type": "markdown",
   "metadata": {},
   "source": [
    "### Filter for M dwarf Spectral Type"
   ]
  },
  {
   "cell_type": "markdown",
   "metadata": {},
   "source": [
    "work in progress"
   ]
  },
  {
   "cell_type": "code",
   "execution_count": null,
   "metadata": {
    "collapsed": true
   },
   "outputs": [],
   "source": []
  },
  {
   "cell_type": "markdown",
   "metadata": {},
   "source": [
    "### Check Observability from CAHA Given the Constraints"
   ]
  },
  {
   "cell_type": "code",
   "execution_count": null,
   "metadata": {},
   "outputs": [],
   "source": [
    "observables = check_observability(alerts, constraints, CAHA, targets, start_time,\n",
    "                                 end_time)"
   ]
  },
  {
   "cell_type": "code",
   "execution_count": null,
   "metadata": {},
   "outputs": [],
   "source": [
    "observables"
   ]
  },
  {
   "cell_type": "markdown",
   "metadata": {},
   "source": [
    "------------------------------"
   ]
  },
  {
   "cell_type": "markdown",
   "metadata": {},
   "source": [
    "------------------------------"
   ]
  },
  {
   "cell_type": "markdown",
   "metadata": {},
   "source": [
    "# TEST Paz' scripts"
   ]
  },
  {
   "cell_type": "code",
   "execution_count": null,
   "metadata": {
    "collapsed": true
   },
   "outputs": [],
   "source": [
    "from astropy.table import Table\n",
    "import numpy as np\n",
    "from astropy.table import Column\n",
    "from astropy import units as u   \n",
    "from astropy.coordinates import SkyCoord\n",
    "from astropy.coordinates import EarthLocation\n",
    "import pandas as pd\n",
    "import astroplan\n",
    "import datetime as dt\n",
    "from astroplan import Observer \n",
    "from astroplan import FixedTarget\n",
    "import requests\n",
    "from lxml import html"
   ]
  },
  {
   "cell_type": "code",
   "execution_count": null,
   "metadata": {},
   "outputs": [],
   "source": [
    "print(\"insert username:\")\n",
    "user = input('')\n",
    "print(\"insert password:\")\n",
    "password = input('')\n",
    "\n",
    "def download_tess_alert_table(user,password,table_name = 'alerts_tess_table.dat'):\n",
    "    LOGIN_URL = 'https://tev.mit.edu/user/login/?next=http%3A//127.0.0.1%3A3032/toi/alerts/all/all/csv/'\n",
    "    URL = 'https://tev.mit.edu/toi/alerts/all/all/csv/'\n",
    "    session_requests = requests.session()\n",
    "    result = session_requests.get(LOGIN_URL)\n",
    "    tree = html.fromstring(result.text)\n",
    "    authenticity_token = list(set(tree.xpath(\"//input[@name='csrfmiddlewaretoken']/@value\")))[0]\n",
    "    payload = {\n",
    "        \"username\": user, \n",
    "        \"password\": password, \n",
    "        \"csrfmiddlewaretoken\": authenticity_token\n",
    "              }\n",
    "    result = session_requests.post(LOGIN_URL, data = payload, headers = dict(referer = LOGIN_URL))\n",
    "    \n",
    "    result = session_requests.get(URL, headers = dict(referer = URL))\n",
    "    f = open(table_name,'w')\n",
    "    f.write(str(result.content).replace(',','\\t').replace(' ','_').replace('\\\\r\\\\n','\\n').replace('\\t\\t','\\t-\\t').replace('\\t\\t','\\t-\\t').replace('\\t\\t','\\t-\\t').replace('\\t\\t','\\t-\\t').replace('\\t\\t','\\t-\\t')[2:-1]) \n",
    "    f.close()\n",
    "\n",
    "    \n",
    "download_tess_alert_table(user,password,table_name = 'alerts_tess_table.dat')\n"
   ]
  },
  {
   "cell_type": "code",
   "execution_count": null,
   "metadata": {},
   "outputs": [],
   "source": [
    "t_alerts =  Table.read('alerts_tess_table.dat',format = 'ascii')\n",
    "alerts_ticid = t_alerts['tic_id'].data.data\n",
    "alerts_toi_id = t_alerts['toi_id'].data.data\n",
    "ra_alerts = t_alerts['RA']*u.deg\n",
    "dec_alerts = t_alerts['Dec']*u.deg\n",
    "coords_alerts = SkyCoord(ra_alerts,dec_alerts,unit = u.deg)\n",
    "ra_alerts=coords_alerts.ra\n",
    "dec_alerts=coords_alerts.dec\n",
    "T_mag = t_alerts['Tmag'].data.data\n",
    "Terr_mag = t_alerts['Tmag_Err'].data.data\n",
    "\n",
    "lista_candidatas = []\n",
    "indices_candidatas = []\n",
    "for j,element in enumerate(coords_alerts):\n",
    "    dec = element.dec\n",
    "    if dec >-23*u.deg and dec <90*u.deg:\n",
    "        lista_candidatas.append(element)\n",
    "        indices_candidatas.append(j)\n",
    "        \n",
    "#Add visibility\n",
    "months_list = []\n",
    "\n",
    "#only candidates alerts (visible from Calar Alto)\n",
    "T_mag_list=[]\n",
    "Terr_mag_list=[]\n",
    "RA_candidatas=[]\n",
    "DEC_candidatas=[]\n",
    "targets_candidatas=[]\n",
    "toi_candidatas = []\n",
    "p=len(lista_candidatas)"
   ]
  },
  {
   "cell_type": "code",
   "execution_count": null,
   "metadata": {},
   "outputs": [],
   "source": [
    "# this is slow.\n",
    "for i in range(10):\n",
    "    print(str(i)+'/'+str(p))\n",
    "    location = EarthLocation.from_geodetic(-2.546111*u.deg, 37.223611*u.deg, 2168*u.m) \n",
    "    obs = Observer(location=location, name=\"calar\", timezone=\"CET\")\n",
    "    c=[astroplan.constraints.LocalTimeConstraint(min=dt.time(19,0), max = dt.time(5,0)),astroplan.constraints.AirmassConstraint(max=2) ] \n",
    "    indices= np.array(indices_candidatas) \n",
    "    targets_candidatas.append(alerts_ticid[indices[i]])\n",
    "    toi_candidatas.append(alerts_toi_id[indices[i]])\n",
    "    T_mag_list.append(T_mag[indices[i]])\n",
    "    Terr_mag_list.append(Terr_mag[indices[i]])\n",
    "    RA_candidatas.append(ra_alerts[indices[i]].value)\n",
    "    DEC_candidatas.append(dec_alerts[indices[i]].value)\n",
    "    coord =lista_candidatas[i]\n",
    "    target = FixedTarget(coord=coord, name=alerts_ticid[indices[i]])\n",
    "    months = astroplan.months_observable(constraints=c,observer=obs,targets=[target]) \n",
    "    months = str(months).replace(' ','').replace('[','').replace(']','') \n",
    "    months_list.append(months)"
   ]
  },
  {
   "cell_type": "code",
   "execution_count": null,
   "metadata": {},
   "outputs": [],
   "source": [
    "t_car_tess =  Table.read('Paz/colnames_carmenes_tess.dat',format = 'ascii')\n",
    "name_t = t_car_tess['tess'].data\n",
    "name_c = t_car_tess['Karmn']\n",
    "c=np.array(targets_candidatas)\n",
    "d=c.astype(str)\n",
    "id_carmenes = []\n",
    "for i,tic in enumerate(d):\n",
    "    j = np.where(name_t==tic)[0]\n",
    "    if len(j)>0:\n",
    "        carmen_id = name_c[j[0]]\n",
    "    else:\n",
    "        carmen_id ='...'\n",
    "    id_carmenes.append(carmen_id)"
   ]
  },
  {
   "cell_type": "code",
   "execution_count": null,
   "metadata": {
    "collapsed": true
   },
   "outputs": [],
   "source": []
  }
 ],
 "metadata": {
  "kernelspec": {
   "display_name": "Python 3",
   "language": "python",
   "name": "python3"
  },
  "language_info": {
   "codemirror_mode": {
    "name": "ipython",
    "version": 3
   },
   "file_extension": ".py",
   "mimetype": "text/x-python",
   "name": "python",
   "nbconvert_exporter": "python",
   "pygments_lexer": "ipython3",
   "version": "3.6.3"
  }
 },
 "nbformat": 4,
 "nbformat_minor": 2
}
